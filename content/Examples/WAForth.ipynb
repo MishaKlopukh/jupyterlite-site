{
  "metadata": {
    "language_info": {
      "codemirror_mode": {
        "name": "forth"
      },
      "file_extension": ".fs",
      "mimetype": "text/x-forth",
      "name": "forth",
      "nbconvert_exporter": "text",
      "pygments_lexer": "forth",
      "version": "Forth-2012"
    },
    "kernelspec": {
      "name": "waforth",
      "display_name": "WAForth",
      "language": "waforth"
    }
  },
  "nbformat_minor": 4,
  "nbformat": 4,
  "cells": [
    {
      "cell_type": "code",
      "source": "8 14 +\n.",
      "metadata": {
        "trusted": true
      },
      "execution_count": null,
      "outputs": []
    },
    {
      "cell_type": "code",
      "source": ": SAY-HELLO\n    .\" Hello, world!\"\n;\nSAY-HELLO",
      "metadata": {
        "trusted": true
      },
      "execution_count": null,
      "outputs": []
    },
    {
      "cell_type": "code",
      "source": "",
      "metadata": {},
      "execution_count": null,
      "outputs": []
    }
  ]
}